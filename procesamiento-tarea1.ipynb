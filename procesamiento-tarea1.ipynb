{
 "cells": [
  {
   "cell_type": "code",
   "execution_count": 5,
   "metadata": {},
   "outputs": [
    {
     "name": "stderr",
     "output_type": "stream",
     "text": [
      "/var/folders/hg/s4skq8ks6g1fy2jw2fdkp0840000gn/T/ipykernel_7538/3965900859.py:9: UserWarning: Parsing dates in %d.%m.%Y format when dayfirst=False (the default) was specified. Pass `dayfirst=True` or specify a format to silence this warning.\n",
      "  data['age'] = 2024 - pd.to_datetime(data['birthday']).dt.year\n"
     ]
    }
   ],
   "source": [
    "import pandas as pd\n",
    "import numpy as np\n",
    "import os\n",
    "\n",
    "# Cargar los datos\n",
    "data = pd.read_csv('bbdd/redcard_data.csv')\n",
    "data.head\n",
    "\n",
    "data['age'] = 2013 - pd.to_datetime(data['birthday']).dt.year"
   ]
  },
  {
   "cell_type": "code",
   "execution_count": 6,
   "metadata": {},
   "outputs": [],
   "source": [
    "data['elite'] = np.where(data['club'].isin([\n",
    "    'FC Barcelona', 'Real Madrid','Atlético Madrid',\n",
    "    'Borussia Dortmund', 'Bayern München','Bayer Leverkusen',\n",
    "    'Olympique Lyon','Paris Saint Germain','Olympique Marseille',\n",
    "    'Chelsea FC', 'Manchester City','Manchester United'\n",
    "]), 1, 0)\n",
    "data['elite'] = data['elite'].map({1: 'Elite', 0: 'No-Elite'})\n",
    "data['elite'] = data['elite'].astype(str)\n",
    "\n"
   ]
  },
  {
   "cell_type": "code",
   "execution_count": 7,
   "metadata": {},
   "outputs": [
    {
     "name": "stdout",
     "output_type": "stream",
     "text": [
      "   rater_mean     elite\n",
      "0       0.375  No-Elite\n",
      "1       0.750  No-Elite\n"
     ]
    }
   ],
   "source": [
    "data['rater_mean'] = data.apply(\n",
    "    lambda row: row['rater2'] * 2 if pd.isna(row['rater1']) else \n",
    "                (row['rater1'] * 2 if pd.isna(row['rater2']) else \n",
    "                 (row['rater1'] + row['rater2']) / 2), \n",
    "    axis=1\n",
    ")\n",
    "# Eliminar filas con cualquier valor NaN\n",
    "data = data.dropna()\n",
    "# Mostrar las primeras filas de 'rater_mean' y 'elite'\n",
    "print(data[['rater_mean', 'elite']].head(2))"
   ]
  },
  {
   "cell_type": "code",
   "execution_count": 9,
   "metadata": {},
   "outputs": [
    {
     "name": "stdout",
     "output_type": "stream",
     "text": [
      "      elite   age_mean  rater_mean_mean\n",
      "0     Elite  38.494500         0.276224\n",
      "1  No-Elite  39.376855         0.282722\n"
     ]
    }
   ],
   "source": [
    "import pandas as pd\n",
    "stats_by_elite = data.groupby('elite').agg(\n",
    "    age_mean=('age', 'mean'),\n",
    "    rater_mean_mean=('rater_mean', 'mean')\n",
    ").reset_index()\n",
    "\n",
    "# Mostrar los resultados\n",
    "print(stats_by_elite)"
   ]
  }
 ],
 "metadata": {
  "kernelspec": {
   "display_name": "Python 3",
   "language": "python",
   "name": "python3"
  },
  "language_info": {
   "codemirror_mode": {
    "name": "ipython",
    "version": 3
   },
   "file_extension": ".py",
   "mimetype": "text/x-python",
   "name": "python",
   "nbconvert_exporter": "python",
   "pygments_lexer": "ipython3",
   "version": "3.9.6"
  }
 },
 "nbformat": 4,
 "nbformat_minor": 2
}
